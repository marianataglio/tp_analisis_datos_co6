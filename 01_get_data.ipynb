{
 "cells": [
  {
   "cell_type": "markdown",
   "metadata": {},
   "source": [
    "### TP Análisis de Datos\n",
    "* Dataset: Piezas de Lego a lo largo de los años. \n",
    "* Consigna: Predecir temática a partir de las piezas del set.\n"
   ]
  },
  {
   "cell_type": "markdown",
   "metadata": {},
   "source": [
    "### Obtención del dataset\n",
    "El dataset está compuesto por 8 tablas. Aquí presentamos un esquema de los datos que resulta útil para explicar cómo realizamos la obtención del dataset \n",
    " final:\n",
    "\n",
    "![schemapng](./images/downloads_schema.png)\n",
    "\n",
    "El objetivo es poder predecir la temática (theme) de un set. A continuación joineamos las tablas que vamos a necesitar para el dataset final."
   ]
  },
  {
   "cell_type": "code",
   "execution_count": 1,
   "metadata": {},
   "outputs": [],
   "source": [
    "import os\n",
    "import numpy as np\n",
    "import pandas as pd\n",
    "from scipy import stats\n",
    "from matplotlib import pyplot as plt"
   ]
  },
  {
   "cell_type": "markdown",
   "metadata": {},
   "source": []
  },
  {
   "cell_type": "code",
   "execution_count": 2,
   "metadata": {},
   "outputs": [],
   "source": [
    "#cargar dataset\n",
    "sets = pd.read_csv('./data/sets.csv')\n",
    "inventory_parts = pd.read_csv('./data/inventory_parts.csv')\n",
    "inventory_sets = pd.read_csv('./data/inventory_sets.csv')\n",
    "colors = pd.read_csv('./data/colors.csv')\n",
    "parts = pd.read_csv('./data/parts.csv')\n",
    "inventories = pd.read_csv('./data/inventories.csv')\n",
    "themes = pd.read_csv('./data/themes.csv')"
   ]
  },
  {
   "cell_type": "code",
   "execution_count": 3,
   "metadata": {},
   "outputs": [
    {
     "name": "stdout",
     "output_type": "stream",
     "text": [
      "Cantidad de set_num en la tabla sets:  11673\n",
      "Cantidad de set_num en la tabla inventory_sets:  2846\n",
      "Cantidad de set_num en la tabla inventories:  11681\n"
     ]
    }
   ],
   "source": [
    "print('Cantidad de set_num en la tabla sets: ', sets['set_num'].value_counts().sum())\n",
    "print('Cantidad de set_num en la tabla inventory_sets: ', inventory_sets['set_num'].value_counts().sum())\n",
    "print('Cantidad de set_num en la tabla inventories: ',inventories['set_num'].value_counts().sum())"
   ]
  },
  {
   "cell_type": "code",
   "execution_count": 4,
   "metadata": {},
   "outputs": [],
   "source": [
    "#Renombramos columnas\n",
    "themes = themes.rename(columns= {'id': 'theme_id'})\n",
    "colors = colors.rename(columns  = {'id': 'color_id'})\n",
    "colors = colors.rename(columns  = {'name': 'color_name'})\n",
    "parts = parts.rename(columns={'name': 'part_name'})\n",
    "inventory_parts = inventory_parts.rename(columns= {'inventory_id': 'id'})"
   ]
  },
  {
   "cell_type": "code",
   "execution_count": 5,
   "metadata": {},
   "outputs": [],
   "source": [
    "#Joineamos las tablas\n",
    "new_themes = pd.merge(sets, themes, on='theme_id', how='inner')\n",
    "new_sets = pd.merge(new_themes, inventories, on= 'set_num', how='inner')\n",
    "new_inventory_parts = pd.merge(new_sets, inventory_parts, on='id', how='inner')\n",
    "new_colors = pd.merge(new_inventory_parts, colors, on='color_id', how='inner')\n",
    "new_parts = pd.merge(new_inventory_parts, parts, on='part_num', how='inner')"
   ]
  },
  {
   "cell_type": "code",
   "execution_count": 6,
   "metadata": {},
   "outputs": [],
   "source": [
    "# Concatenamos y borramos las columnas duplicadas\n",
    "final_df = pd.concat([new_colors, new_parts], axis=\"columns\")\n",
    "final_df.columns.duplicated()\n",
    "final_df = final_df.loc[:,~final_df.columns.duplicated()].copy()"
   ]
  },
  {
   "cell_type": "code",
   "execution_count": 7,
   "metadata": {},
   "outputs": [
    {
     "data": {
      "text/plain": [
       "Index(['set_num', 'name_x', 'year', 'theme_id', 'num_parts', 'name_y',\n",
       "       'parent_id', 'id', 'version', 'part_num', 'color_id', 'quantity',\n",
       "       'is_spare', 'color_name', 'rgb', 'is_trans', 'part_name',\n",
       "       'part_cat_id'],\n",
       "      dtype='object')"
      ]
     },
     "execution_count": 7,
     "metadata": {},
     "output_type": "execute_result"
    }
   ],
   "source": [
    "final_df.columns"
   ]
  },
  {
   "cell_type": "code",
   "execution_count": 8,
   "metadata": {},
   "outputs": [],
   "source": [
    "#Renombramos columnas para más claridad\n",
    "final_df = final_df.rename(columns= {'name_x': 'set_name', 'name_y': 'theme_name', 'id': 'inv_id', 'version': 'inv_version'})"
   ]
  },
  {
   "cell_type": "code",
   "execution_count": 9,
   "metadata": {},
   "outputs": [
    {
     "data": {
      "text/plain": [
       "set_num             0\n",
       "set_name            0\n",
       "year                0\n",
       "theme_id            0\n",
       "num_parts           0\n",
       "theme_name          0\n",
       "parent_id      207693\n",
       "inv_id              0\n",
       "inv_version         0\n",
       "part_num            0\n",
       "color_id            0\n",
       "quantity            0\n",
       "is_spare            0\n",
       "color_name          0\n",
       "rgb                 0\n",
       "is_trans            0\n",
       "part_name         182\n",
       "part_cat_id       182\n",
       "dtype: int64"
      ]
     },
     "execution_count": 9,
     "metadata": {},
     "output_type": "execute_result"
    }
   ],
   "source": [
    "final_df.isnull().sum()"
   ]
  },
  {
   "cell_type": "code",
   "execution_count": 10,
   "metadata": {},
   "outputs": [],
   "source": [
    "# Drop nulls\n",
    "final_df = final_df.dropna(subset =['part_name'])"
   ]
  },
  {
   "cell_type": "code",
   "execution_count": 17,
   "metadata": {},
   "outputs": [],
   "source": [
    "import matplotlib.pyplot as plt"
   ]
  },
  {
   "cell_type": "code",
   "execution_count": 22,
   "metadata": {},
   "outputs": [],
   "source": [
    "quantity = np.array(final_df['quantity'])"
   ]
  },
  {
   "cell_type": "code",
   "execution_count": 23,
   "metadata": {},
   "outputs": [
    {
     "data": {
      "text/plain": [
       "(array([4.01122e+05, 9.32740e+04, 5.05110e+04, 2.50630e+04, 7.29200e+03,\n",
       "        2.16700e+03, 4.69000e+02, 1.32000e+02, 2.80000e+01, 1.10000e+01]),\n",
       " array([0.        , 0.31583625, 0.6316725 , 0.94750875, 1.263345  ,\n",
       "        1.57918125, 1.8950175 , 2.21085374, 2.52668999, 2.84252624,\n",
       "        3.15836249]),\n",
       " <BarContainer object of 10 artists>)"
      ]
     },
     "execution_count": 23,
     "metadata": {},
     "output_type": "execute_result"
    },
    {
     "data": {
      "image/png": "[encoded data removed]",
      "text/plain": [
       "<Figure size 432x288 with 1 Axes>"
      ]
     },
     "metadata": {
      "needs_background": "light"
     },
     "output_type": "display_data"
    }
   ],
   "source": [
    "from turtle import title\n",
    "\n",
    "\n",
    "plt.hist(np.log10(quantity))"
   ]
  },
  {
   "cell_type": "code",
   "execution_count": 15,
   "metadata": {},
   "outputs": [
    {
     "data": {
      "text/plain": [
       "set_num         object\n",
       "set_name        object\n",
       "year             int64\n",
       "theme_id         int64\n",
       "num_parts        int64\n",
       "theme_name      object\n",
       "parent_id      float64\n",
       "inv_id           int64\n",
       "inv_version      int64\n",
       "part_num        object\n",
       "color_id         int64\n",
       "quantity         int64\n",
       "is_spare        object\n",
       "color_name      object\n",
       "rgb             object\n",
       "is_trans        object\n",
       "part_name       object\n",
       "part_cat_id    float64\n",
       "dtype: object"
      ]
     },
     "execution_count": 15,
     "metadata": {},
     "output_type": "execute_result"
    }
   ],
   "source": [
    "final_df.dtypes"
   ]
  },
  {
   "cell_type": "code",
   "execution_count": 17,
   "metadata": {},
   "outputs": [],
   "source": [
    "os.makedirs('./data', exist_ok=True)  \n",
    "final_df.to_csv('./data/lego_df.csv', index=False)"
   ]
  },
  {
   "cell_type": "code",
   "execution_count": 20,
   "metadata": {},
   "outputs": [
    {
     "data": {
      "text/plain": [
       "0         False\n",
       "1         False\n",
       "2         False\n",
       "3         False\n",
       "4         False\n",
       "          ...  \n",
       "580064    False\n",
       "580065    False\n",
       "580066    False\n",
       "580067    False\n",
       "580068    False\n",
       "Name: color_id, Length: 580069, dtype: bool"
      ]
     },
     "execution_count": 20,
     "metadata": {},
     "output_type": "execute_result"
    }
   ],
   "source": [
    "final_df['color_id'] "
   ]
  },
  {
   "cell_type": "code",
   "execution_count": 26,
   "metadata": {},
   "outputs": [
    {
     "data": {
      "text/plain": [
       "(580069, 18)"
      ]
     },
     "execution_count": 26,
     "metadata": {},
     "output_type": "execute_result"
    }
   ],
   "source": [
    "final_df.shape"
   ]
  }
 ],
 "metadata": {
  "kernelspec": {
   "display_name": "Python 3.9.7 ('base')",
   "language": "python",
   "name": "python3"
  },
  "language_info": {
   "codemirror_mode": {
    "name": "ipython",
    "version": 3
   },
   "file_extension": ".py",
   "mimetype": "text/x-python",
   "name": "python",
   "nbconvert_exporter": "python",
   "pygments_lexer": "ipython3",
   "version": "3.9.7"
  },
  "orig_nbformat": 4,
  "vscode": {
   "interpreter": {
    "hash": "40c82f114804a1480aeb27a3c6f7ad070b7bcba24ac6951971befad3bfd46cb3"
   }
  }
 },
 "nbformat": 4,
 "nbformat_minor": 2
}
