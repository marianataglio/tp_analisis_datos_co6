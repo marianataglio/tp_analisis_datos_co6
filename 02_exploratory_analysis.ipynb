{
 "cells": [
  {
   "cell_type": "markdown",
   "metadata": {},
   "source": [
    "### Análisis exploratorio inicial\n",
    "* Visualizar las primeras filas.\n",
    "* Realizar un resumen de 5 números."
   ]
  },
  {
   "cell_type": "code",
   "execution_count": 75,
   "metadata": {},
   "outputs": [],
   "source": [
    "import pandas as pd\n",
    "import numpy as np\n",
    "import seaborn as sns"
   ]
  },
  {
   "cell_type": "code",
   "execution_count": 66,
   "metadata": {},
   "outputs": [],
   "source": [
    "lego_df = pd.read_csv('./data/lego_df.csv')"
   ]
  },
  {
   "cell_type": "code",
   "execution_count": 67,
   "metadata": {},
   "outputs": [
    {
     "data": {
      "text/html": [
       "<div>\n",
       "<style scoped>\n",
       "    .dataframe tbody tr th:only-of-type {\n",
       "        vertical-align: middle;\n",
       "    }\n",
       "\n",
       "    .dataframe tbody tr th {\n",
       "        vertical-align: top;\n",
       "    }\n",
       "\n",
       "    .dataframe thead th {\n",
       "        text-align: right;\n",
       "    }\n",
       "</style>\n",
       "<table border=\"1\" class=\"dataframe\">\n",
       "  <thead>\n",
       "    <tr style=\"text-align: right;\">\n",
       "      <th></th>\n",
       "      <th>set_num</th>\n",
       "      <th>set_name</th>\n",
       "      <th>year</th>\n",
       "      <th>theme_id</th>\n",
       "      <th>num_parts</th>\n",
       "      <th>theme_name</th>\n",
       "      <th>parent_id</th>\n",
       "      <th>inv_id</th>\n",
       "      <th>inv_version</th>\n",
       "      <th>part_num</th>\n",
       "      <th>color_id</th>\n",
       "      <th>quantity</th>\n",
       "      <th>is_spare</th>\n",
       "      <th>color_name</th>\n",
       "      <th>rgb</th>\n",
       "      <th>is_trans</th>\n",
       "      <th>part_name</th>\n",
       "      <th>part_cat_id</th>\n",
       "    </tr>\n",
       "  </thead>\n",
       "  <tbody>\n",
       "    <tr>\n",
       "      <th>0</th>\n",
       "      <td>00-1</td>\n",
       "      <td>Weetabix Castle</td>\n",
       "      <td>1970</td>\n",
       "      <td>414</td>\n",
       "      <td>471</td>\n",
       "      <td>Castle</td>\n",
       "      <td>411.0</td>\n",
       "      <td>5574</td>\n",
       "      <td>1</td>\n",
       "      <td>29c01</td>\n",
       "      <td>4</td>\n",
       "      <td>8</td>\n",
       "      <td>f</td>\n",
       "      <td>Red</td>\n",
       "      <td>C91A09</td>\n",
       "      <td>f</td>\n",
       "      <td>Window 1 x 1 x 2 with Glass</td>\n",
       "      <td>16.0</td>\n",
       "    </tr>\n",
       "    <tr>\n",
       "      <th>1</th>\n",
       "      <td>00-1</td>\n",
       "      <td>Weetabix Castle</td>\n",
       "      <td>1970</td>\n",
       "      <td>414</td>\n",
       "      <td>471</td>\n",
       "      <td>Castle</td>\n",
       "      <td>411.0</td>\n",
       "      <td>5574</td>\n",
       "      <td>1</td>\n",
       "      <td>3001a</td>\n",
       "      <td>4</td>\n",
       "      <td>9</td>\n",
       "      <td>f</td>\n",
       "      <td>Red</td>\n",
       "      <td>C91A09</td>\n",
       "      <td>f</td>\n",
       "      <td>Window 1 x 1 x 2 with Glass</td>\n",
       "      <td>16.0</td>\n",
       "    </tr>\n",
       "    <tr>\n",
       "      <th>2</th>\n",
       "      <td>00-1</td>\n",
       "      <td>Weetabix Castle</td>\n",
       "      <td>1970</td>\n",
       "      <td>414</td>\n",
       "      <td>471</td>\n",
       "      <td>Castle</td>\n",
       "      <td>411.0</td>\n",
       "      <td>5574</td>\n",
       "      <td>1</td>\n",
       "      <td>3002a</td>\n",
       "      <td>4</td>\n",
       "      <td>6</td>\n",
       "      <td>f</td>\n",
       "      <td>Red</td>\n",
       "      <td>C91A09</td>\n",
       "      <td>f</td>\n",
       "      <td>Window 1 x 1 x 2 with Glass</td>\n",
       "      <td>16.0</td>\n",
       "    </tr>\n",
       "    <tr>\n",
       "      <th>3</th>\n",
       "      <td>00-1</td>\n",
       "      <td>Weetabix Castle</td>\n",
       "      <td>1970</td>\n",
       "      <td>414</td>\n",
       "      <td>471</td>\n",
       "      <td>Castle</td>\n",
       "      <td>411.0</td>\n",
       "      <td>5574</td>\n",
       "      <td>1</td>\n",
       "      <td>3004</td>\n",
       "      <td>4</td>\n",
       "      <td>22</td>\n",
       "      <td>f</td>\n",
       "      <td>Red</td>\n",
       "      <td>C91A09</td>\n",
       "      <td>f</td>\n",
       "      <td>Window 1 x 1 x 2 with Glass</td>\n",
       "      <td>16.0</td>\n",
       "    </tr>\n",
       "    <tr>\n",
       "      <th>4</th>\n",
       "      <td>00-1</td>\n",
       "      <td>Weetabix Castle</td>\n",
       "      <td>1970</td>\n",
       "      <td>414</td>\n",
       "      <td>471</td>\n",
       "      <td>Castle</td>\n",
       "      <td>411.0</td>\n",
       "      <td>5574</td>\n",
       "      <td>1</td>\n",
       "      <td>3005</td>\n",
       "      <td>4</td>\n",
       "      <td>2</td>\n",
       "      <td>f</td>\n",
       "      <td>Red</td>\n",
       "      <td>C91A09</td>\n",
       "      <td>f</td>\n",
       "      <td>Brick 2 x 4 without Cross Supports</td>\n",
       "      <td>11.0</td>\n",
       "    </tr>\n",
       "  </tbody>\n",
       "</table>\n",
       "</div>"
      ],
      "text/plain": [
       "  set_num         set_name  year  theme_id  num_parts theme_name  parent_id  \\\n",
       "0    00-1  Weetabix Castle  1970       414        471     Castle      411.0   \n",
       "1    00-1  Weetabix Castle  1970       414        471     Castle      411.0   \n",
       "2    00-1  Weetabix Castle  1970       414        471     Castle      411.0   \n",
       "3    00-1  Weetabix Castle  1970       414        471     Castle      411.0   \n",
       "4    00-1  Weetabix Castle  1970       414        471     Castle      411.0   \n",
       "\n",
       "   inv_id  inv_version part_num  color_id  quantity is_spare color_name  \\\n",
       "0    5574            1    29c01         4         8        f        Red   \n",
       "1    5574            1    3001a         4         9        f        Red   \n",
       "2    5574            1    3002a         4         6        f        Red   \n",
       "3    5574            1     3004         4        22        f        Red   \n",
       "4    5574            1     3005         4         2        f        Red   \n",
       "\n",
       "      rgb is_trans                           part_name  part_cat_id  \n",
       "0  C91A09        f         Window 1 x 1 x 2 with Glass         16.0  \n",
       "1  C91A09        f         Window 1 x 1 x 2 with Glass         16.0  \n",
       "2  C91A09        f         Window 1 x 1 x 2 with Glass         16.0  \n",
       "3  C91A09        f         Window 1 x 1 x 2 with Glass         16.0  \n",
       "4  C91A09        f  Brick 2 x 4 without Cross Supports         11.0  "
      ]
     },
     "execution_count": 67,
     "metadata": {},
     "output_type": "execute_result"
    }
   ],
   "source": [
    "lego_df.head()"
   ]
  },
  {
   "cell_type": "code",
   "execution_count": 68,
   "metadata": {},
   "outputs": [
    {
     "data": {
      "text/html": [
       "<div>\n",
       "<style scoped>\n",
       "    .dataframe tbody tr th:only-of-type {\n",
       "        vertical-align: middle;\n",
       "    }\n",
       "\n",
       "    .dataframe tbody tr th {\n",
       "        vertical-align: top;\n",
       "    }\n",
       "\n",
       "    .dataframe thead th {\n",
       "        text-align: right;\n",
       "    }\n",
       "</style>\n",
       "<table border=\"1\" class=\"dataframe\">\n",
       "  <thead>\n",
       "    <tr style=\"text-align: right;\">\n",
       "      <th></th>\n",
       "      <th>year</th>\n",
       "      <th>theme_id</th>\n",
       "      <th>num_parts</th>\n",
       "      <th>parent_id</th>\n",
       "      <th>inv_id</th>\n",
       "      <th>inv_version</th>\n",
       "      <th>color_id</th>\n",
       "      <th>quantity</th>\n",
       "      <th>part_cat_id</th>\n",
       "    </tr>\n",
       "  </thead>\n",
       "  <tbody>\n",
       "    <tr>\n",
       "      <th>count</th>\n",
       "      <td>580069.000000</td>\n",
       "      <td>580069.000000</td>\n",
       "      <td>580069.000000</td>\n",
       "      <td>372382.000000</td>\n",
       "      <td>580069.000000</td>\n",
       "      <td>580069.000000</td>\n",
       "      <td>580069.000000</td>\n",
       "      <td>580069.000000</td>\n",
       "      <td>580069.000000</td>\n",
       "    </tr>\n",
       "    <tr>\n",
       "      <th>mean</th>\n",
       "      <td>2005.696581</td>\n",
       "      <td>274.150773</td>\n",
       "      <td>506.894678</td>\n",
       "      <td>205.023180</td>\n",
       "      <td>8605.754931</td>\n",
       "      <td>1.001600</td>\n",
       "      <td>78.455991</td>\n",
       "      <td>3.325185</td>\n",
       "      <td>20.174191</td>\n",
       "    </tr>\n",
       "    <tr>\n",
       "      <th>std</th>\n",
       "      <td>10.861963</td>\n",
       "      <td>190.348649</td>\n",
       "      <td>606.313524</td>\n",
       "      <td>168.494473</td>\n",
       "      <td>4958.354287</td>\n",
       "      <td>0.043279</td>\n",
       "      <td>622.331027</td>\n",
       "      <td>8.230996</td>\n",
       "      <td>13.621646</td>\n",
       "    </tr>\n",
       "    <tr>\n",
       "      <th>min</th>\n",
       "      <td>1950.000000</td>\n",
       "      <td>1.000000</td>\n",
       "      <td>1.000000</td>\n",
       "      <td>1.000000</td>\n",
       "      <td>1.000000</td>\n",
       "      <td>1.000000</td>\n",
       "      <td>-1.000000</td>\n",
       "      <td>1.000000</td>\n",
       "      <td>1.000000</td>\n",
       "    </tr>\n",
       "    <tr>\n",
       "      <th>25%</th>\n",
       "      <td>2001.000000</td>\n",
       "      <td>100.000000</td>\n",
       "      <td>134.000000</td>\n",
       "      <td>52.000000</td>\n",
       "      <td>4352.000000</td>\n",
       "      <td>1.000000</td>\n",
       "      <td>1.000000</td>\n",
       "      <td>1.000000</td>\n",
       "      <td>11.000000</td>\n",
       "    </tr>\n",
       "    <tr>\n",
       "      <th>50%</th>\n",
       "      <td>2009.000000</td>\n",
       "      <td>236.000000</td>\n",
       "      <td>328.000000</td>\n",
       "      <td>158.000000</td>\n",
       "      <td>8637.000000</td>\n",
       "      <td>1.000000</td>\n",
       "      <td>15.000000</td>\n",
       "      <td>2.000000</td>\n",
       "      <td>14.000000</td>\n",
       "    </tr>\n",
       "    <tr>\n",
       "      <th>75%</th>\n",
       "      <td>2014.000000</td>\n",
       "      <td>466.000000</td>\n",
       "      <td>665.000000</td>\n",
       "      <td>324.000000</td>\n",
       "      <td>12794.000000</td>\n",
       "      <td>1.000000</td>\n",
       "      <td>71.000000</td>\n",
       "      <td>4.000000</td>\n",
       "      <td>27.000000</td>\n",
       "    </tr>\n",
       "    <tr>\n",
       "      <th>max</th>\n",
       "      <td>2017.000000</td>\n",
       "      <td>614.000000</td>\n",
       "      <td>5922.000000</td>\n",
       "      <td>580.000000</td>\n",
       "      <td>18708.000000</td>\n",
       "      <td>5.000000</td>\n",
       "      <td>9999.000000</td>\n",
       "      <td>1440.000000</td>\n",
       "      <td>57.000000</td>\n",
       "    </tr>\n",
       "  </tbody>\n",
       "</table>\n",
       "</div>"
      ],
      "text/plain": [
       "                year       theme_id      num_parts      parent_id  \\\n",
       "count  580069.000000  580069.000000  580069.000000  372382.000000   \n",
       "mean     2005.696581     274.150773     506.894678     205.023180   \n",
       "std        10.861963     190.348649     606.313524     168.494473   \n",
       "min      1950.000000       1.000000       1.000000       1.000000   \n",
       "25%      2001.000000     100.000000     134.000000      52.000000   \n",
       "50%      2009.000000     236.000000     328.000000     158.000000   \n",
       "75%      2014.000000     466.000000     665.000000     324.000000   \n",
       "max      2017.000000     614.000000    5922.000000     580.000000   \n",
       "\n",
       "              inv_id    inv_version       color_id       quantity  \\\n",
       "count  580069.000000  580069.000000  580069.000000  580069.000000   \n",
       "mean     8605.754931       1.001600      78.455991       3.325185   \n",
       "std      4958.354287       0.043279     622.331027       8.230996   \n",
       "min         1.000000       1.000000      -1.000000       1.000000   \n",
       "25%      4352.000000       1.000000       1.000000       1.000000   \n",
       "50%      8637.000000       1.000000      15.000000       2.000000   \n",
       "75%     12794.000000       1.000000      71.000000       4.000000   \n",
       "max     18708.000000       5.000000    9999.000000    1440.000000   \n",
       "\n",
       "         part_cat_id  \n",
       "count  580069.000000  \n",
       "mean       20.174191  \n",
       "std        13.621646  \n",
       "min         1.000000  \n",
       "25%        11.000000  \n",
       "50%        14.000000  \n",
       "75%        27.000000  \n",
       "max        57.000000  "
      ]
     },
     "execution_count": 68,
     "metadata": {},
     "output_type": "execute_result"
    }
   ],
   "source": [
    "lego_df.describe()"
   ]
  },
  {
   "cell_type": "code",
   "execution_count": 69,
   "metadata": {},
   "outputs": [
    {
     "data": {
      "text/plain": [
       "set_num         object\n",
       "set_name        object\n",
       "year             int64\n",
       "theme_id         int64\n",
       "num_parts        int64\n",
       "theme_name      object\n",
       "parent_id      float64\n",
       "inv_id           int64\n",
       "inv_version      int64\n",
       "part_num        object\n",
       "color_id         int64\n",
       "quantity         int64\n",
       "is_spare        object\n",
       "color_name      object\n",
       "rgb             object\n",
       "is_trans        object\n",
       "part_name       object\n",
       "part_cat_id    float64\n",
       "dtype: object"
      ]
     },
     "execution_count": 69,
     "metadata": {},
     "output_type": "execute_result"
    }
   ],
   "source": [
    "lego_df.dtypes"
   ]
  },
  {
   "cell_type": "markdown",
   "metadata": {},
   "source": [
    "#### Tipos de datos\n",
    "* Identificar los tipos de datos: categórico, ordinal, etc. Responder para cada variable su tipo y si\n",
    "es informativa para un problema de clasificación (por ejemplo si se trata de un código, como\n",
    "una matrícula, o un nombre propio).\n",
    "* Identificar las variables de entrada y de salida del problema."
   ]
  },
  {
   "cell_type": "markdown",
   "metadata": {},
   "source": [
    "Variables categóricas:\n",
    "* set_num,         object\n",
    "* set_name,        object\n",
    "* theme_id,        int64\n",
    "* theme_name,      object\n",
    "* parent_id,      float64\n",
    "* inv_id,           int64\n",
    "* inv_version,      int64\n",
    "* part_num,        object\n",
    "* color_id,         int64\n",
    "* is_spare,        object\n",
    "* color_name,      object\n",
    "* rgb,             object\n",
    "* is_trans,        object\n",
    "* part_name,       object\n",
    "* part_cat_id,    float64\n",
    "\n",
    "Variables numéricas discretas:\n",
    "* year,             int64\n",
    "* quantity,         int64\n",
    "* num_parts,        int64\n",
    "\n",
    "\n",
    "#### Identificación de variables de entrada y de salida:\n",
    "Nuestro objetivo es predecir la temática de un set, de modo que la variable de salida será **theme_id.**\n",
    "\n",
    "La predicción se hará en base al contenido del set, por lo que las variables de entrada que nos servirán para este problema de clasificación múltiple son: \n",
    "* year, quantity (numéricas)\n",
    "* inv_id, inv_version, is_spare, color_id, part_cat_id(categóricas).\n",
    "\n",
    "Las variables *color_name* y *rgb* también son informativas, pero decidimos trabajar únicamente con el *color_id*.\n",
    "Part_num es una variable de una cardinalidad muy alta con el doble de columnas que el total de rows. Para ello decidimos utilizar part_cat_id que tiene una cardinalidad más baja."
   ]
  },
  {
   "cell_type": "markdown",
   "metadata": {},
   "source": [
    "#### Variables de entrada:\n",
    "* Realizar los siguientes análisis por tipo de variable:\n",
    "* Numéricas: Obtener conclusiones acerca de la distribución de los datos.\n",
    "* Categóricas: Obtener conclusiones acerca de la cardinalidad, representación de cada\n",
    "categoría, etc.\n",
    "* Compuestas: ¿Pueden tratarse para utilizarse en el problema a resolver?"
   ]
  },
  {
   "cell_type": "markdown",
   "metadata": {},
   "source": [
    "##### Distribución de variables numéricas"
   ]
  },
  {
   "cell_type": "code",
   "execution_count": 70,
   "metadata": {},
   "outputs": [
    {
     "data": {
      "text/plain": [
       "array([[<AxesSubplot:title={'center':'year'}>],\n",
       "       [<AxesSubplot:title={'center':'num_parts'}>],\n",
       "       [<AxesSubplot:title={'center':'quantity'}>]], dtype=object)"
      ]
     },
     "execution_count": 70,
     "metadata": {},
     "output_type": "execute_result"
    },
    {
     "data": {
      "image/png": "[encoded data removed]",
      "text/plain": [
       "<Figure size 360x576 with 3 Axes>"
      ]
     },
     "metadata": {
      "needs_background": "light"
     },
     "output_type": "display_data"
    }
   ],
   "source": [
    "lego_df.hist(column=[\"year\", \"num_parts\", \"quantity\"], layout=(3,1), figsize=(5, 8))"
   ]
  },
  {
   "cell_type": "code",
   "execution_count": 71,
   "metadata": {},
   "outputs": [
    {
     "data": {
      "image/png": "[encoded data removed]",
      "text/plain": [
       "<Figure size 432x288 with 1 Axes>"
      ]
     },
     "metadata": {
      "needs_background": "light"
     },
     "output_type": "display_data"
    }
   ],
   "source": [
    "#Evolución en el tiempo del número de piezas de cada set\n",
    "year = np.array(lego_df.year)\n",
    "num = np.array(lego_df.num_parts)\n",
    "\n",
    "plt.scatter(year,num) \n",
    "plt.show()"
   ]
  },
  {
   "cell_type": "markdown",
   "metadata": {},
   "source": [
    "A partir de la distribución de las variables numéricas podemos observar que los datos tienen una distrubición asimétrica negativa con respecto a la variable year (left skewed). Esto coincide con la evolución en el tiempo del número de piezas de cada set, tal como se ve en el scatter plot, donde se observa que la distribución también es asimétrica negativa. \n",
    "\n",
    " Mientras que se presenta una asimetría positiva (right skewed) con la variable num_parts. Esto es, el número de partes que compone un set está mayormente distribuido en los valores de 0 a 1000.\n"
   ]
  },
  {
   "cell_type": "markdown",
   "metadata": {},
   "source": [
    "#### Distribución variables categóricas"
   ]
  },
  {
   "cell_type": "markdown",
   "metadata": {},
   "source": [
    "A continuación vemos cómo la gran mayoría de las variables, a excepción de inv_version e is_spare, tienen alta cardinalidad. \n",
    "Proponemos trabajar"
   ]
  },
  {
   "cell_type": "code",
   "execution_count": 90,
   "metadata": {},
   "outputs": [
    {
     "name": "stdout",
     "output_type": "stream",
     "text": [
      "valores unicos de version:  5\n",
      "valores unicos de part_num:  23109\n",
      "valores unicos de is_spare:  2\n",
      "valores unicos de part_cat_id:  57\n",
      "valores unicos de inventory id:  10724\n",
      "valores unicos de color_id:  119\n"
     ]
    }
   ],
   "source": [
    "#Cardinalidad: \n",
    "print('valores unicos de version: ', lego_df.inv_version.nunique()) #version, baja cardinalidad\n",
    "print('valores unicos de part_num: ', lego_df.part_num.nunique()) #part_num alta cardinalidad\n",
    "print('valores unicos de is_spare: ', lego_df.is_spare.nunique()) #is_spare baja cardinalidad\n",
    "print('valores unicos de part_cat_id: ', lego_df.part_cat_id.nunique())\n",
    "print('valores unicos de inventory id: ', lego_df.inv_id.nunique()) #inv_id alta cardinalidad\n",
    "print('valores unicos de color_id: ', lego_df.color_id.nunique()) #color_id alta cardinalidad"
   ]
  },
  {
   "cell_type": "code",
   "execution_count": 95,
   "metadata": {},
   "outputs": [
    {
     "data": {
      "text/plain": [
       "array([[<AxesSubplot:title={'center':'year'}>],\n",
       "       [<AxesSubplot:title={'center':'num_parts'}>],\n",
       "       [<AxesSubplot:title={'center':'quantity'}>]], dtype=object)"
      ]
     },
     "execution_count": 95,
     "metadata": {},
     "output_type": "execute_result"
    },
    {
     "data": {
      "image/png": "[encoded data removed]",
      "text/plain": [
       "<Figure size 360x576 with 3 Axes>"
      ]
     },
     "metadata": {
      "needs_background": "light"
     },
     "output_type": "display_data"
    }
   ],
   "source": [
    "# Distribución de datos numéricos\n",
    "lego_df.hist(column=[\"year\", \"num_parts\", \"quantity\"], layout=(3,1), figsize=(5, 8))"
   ]
  },
  {
   "cell_type": "code",
   "execution_count": 163,
   "metadata": {},
   "outputs": [
    {
     "data": {
      "image/png": "[encoded data removed]",
      "text/plain": [
       "<Figure size 432x288 with 1 Axes>"
      ]
     },
     "metadata": {
      "needs_background": "light"
     },
     "output_type": "display_data"
    }
   ],
   "source": [
    "# Distribuciín acumulada de datos categóricos.\n",
    "# color_id: el 90% de los themes está representado por aprox 60 colores.\n",
    "\n",
    "x_color_id = lego_df.groupby(\"color_id\").agg({\"theme_name\": \"nunique\"}).theme_name.sort_values(ascending=False)\n",
    "plt.plot((x_color_id / x_color_id.sum()).cumsum().values)\n",
    "plt.grid()"
   ]
  },
  {
   "cell_type": "code",
   "execution_count": 164,
   "metadata": {},
   "outputs": [
    {
     "data": {
      "image/png": "[encoded data removed]",
      "text/plain": [
       "<Figure size 432x288 with 1 Axes>"
      ]
     },
     "metadata": {
      "needs_background": "light"
     },
     "output_type": "display_data"
    }
   ],
   "source": [
    "#part_num: el 90% de los themes está representado por 13k part_num aprox.\n",
    "\n",
    "x_part_num_id = lego_df.groupby(\"part_num\").agg({\"theme_name\": \"nunique\"}).theme_name.sort_values(ascending=False)\n",
    "plt.plot((x_part_num_id / x_part_num_id.sum()).cumsum().values)\n",
    "plt.grid()"
   ]
  },
  {
   "cell_type": "code",
   "execution_count": 165,
   "metadata": {},
   "outputs": [
    {
     "data": {
      "image/png": "[encoded data removed]",
      "text/plain": [
       "<Figure size 432x288 with 1 Axes>"
      ]
     },
     "metadata": {
      "needs_background": "light"
     },
     "output_type": "display_data"
    }
   ],
   "source": [
    "# inventory_id: el \n",
    "\n",
    "x_inv_id = lego_df.groupby(\"inv_id\").agg({\"theme_name\": \"nunique\"}).theme_name.sort_values(ascending=False)\n",
    "plt.plot((x_inv_id / x_inv_id.sum()).cumsum().values)\n",
    "plt.grid()"
   ]
  },
  {
   "cell_type": "code",
   "execution_count": 168,
   "metadata": {},
   "outputs": [
    {
     "data": {
      "text/plain": [
       "1305     769\n",
       "12397    700\n",
       "8461     687\n",
       "16139    593\n",
       "14208    592\n",
       "        ... \n",
       "2353       1\n",
       "597        1\n",
       "16097      1\n",
       "9522       1\n",
       "2793       1\n",
       "Name: inv_id, Length: 10724, dtype: int64"
      ]
     },
     "execution_count": 168,
     "metadata": {},
     "output_type": "execute_result"
    }
   ],
   "source": [
    "lego_df['inv_id'].value_counts()"
   ]
  },
  {
   "cell_type": "code",
   "execution_count": 166,
   "metadata": {},
   "outputs": [
    {
     "data": {
      "image/png": "[encoded data removed]",
      "text/plain": [
       "<Figure size 432x288 with 1 Axes>"
      ]
     },
     "metadata": {
      "needs_background": "light"
     },
     "output_type": "display_data"
    }
   ],
   "source": [
    "# part_cat_id: el 90% de los themes está representado por aprox 40 inv_id\n",
    "\n",
    "x_part_cat_id = lego_df.groupby(\"part_cat_id\").agg({\"theme_name\": \"nunique\"}).theme_name.sort_values(ascending=False)\n",
    "plt.plot((x_part_cat_id / x_part_cat_id.sum()).cumsum().values)\n",
    "plt.grid()"
   ]
  },
  {
   "cell_type": "code",
   "execution_count": 161,
   "metadata": {},
   "outputs": [
    {
     "data": {
      "text/plain": [
       "color_id\n",
       "0       373\n",
       "15      363\n",
       "4       350\n",
       "1       342\n",
       "14      332\n",
       "2       271\n",
       "36      267\n",
       "47      259\n",
       "19      256\n",
       "71      254\n",
       "72      254\n",
       "46      216\n",
       "34      214\n",
       "25      214\n",
       "41      209\n",
       "9999    207\n",
       "33      206\n",
       "57      205\n",
       "272     202\n",
       "70      202\n",
       "179     201\n",
       "320     195\n",
       "42      193\n",
       "7       188\n",
       "27      184\n",
       "28      168\n",
       "8       161\n",
       "297     158\n",
       "40      158\n",
       "288     155\n",
       "182     152\n",
       "73      146\n",
       "484     144\n",
       "308     142\n",
       "6       131\n",
       "10      131\n",
       "191     128\n",
       "148     123\n",
       "135     115\n",
       "84      102\n",
       "80       95\n",
       "383      94\n",
       "379      94\n",
       "378      94\n",
       "85       94\n",
       "78       75\n",
       "334      74\n",
       "143      73\n",
       "5        72\n",
       "29       69\n",
       "45       68\n",
       "82       66\n",
       "326      64\n",
       "35       64\n",
       "322      62\n",
       "226      60\n",
       "321      57\n",
       "52       54\n",
       "212      53\n",
       "89       52\n",
       "Name: theme_name, dtype: int64"
      ]
     },
     "execution_count": 161,
     "metadata": {},
     "output_type": "execute_result"
    }
   ],
   "source": [
    "x_color_id.head(60)"
   ]
  },
  {
   "cell_type": "code",
   "execution_count": 156,
   "metadata": {},
   "outputs": [
    {
     "data": {
      "text/html": [
       "<div>\n",
       "<style scoped>\n",
       "    .dataframe tbody tr th:only-of-type {\n",
       "        vertical-align: middle;\n",
       "    }\n",
       "\n",
       "    .dataframe tbody tr th {\n",
       "        vertical-align: top;\n",
       "    }\n",
       "\n",
       "    .dataframe thead th {\n",
       "        text-align: right;\n",
       "    }\n",
       "</style>\n",
       "<table border=\"1\" class=\"dataframe\">\n",
       "  <thead>\n",
       "    <tr style=\"text-align: right;\">\n",
       "      <th></th>\n",
       "      <th>theme_name</th>\n",
       "    </tr>\n",
       "    <tr>\n",
       "      <th>color_id</th>\n",
       "      <th></th>\n",
       "    </tr>\n",
       "  </thead>\n",
       "  <tbody>\n",
       "    <tr>\n",
       "      <th>-1</th>\n",
       "      <td>27</td>\n",
       "    </tr>\n",
       "    <tr>\n",
       "      <th>0</th>\n",
       "      <td>373</td>\n",
       "    </tr>\n",
       "    <tr>\n",
       "      <th>1</th>\n",
       "      <td>342</td>\n",
       "    </tr>\n",
       "    <tr>\n",
       "      <th>2</th>\n",
       "      <td>271</td>\n",
       "    </tr>\n",
       "    <tr>\n",
       "      <th>3</th>\n",
       "      <td>27</td>\n",
       "    </tr>\n",
       "    <tr>\n",
       "      <th>...</th>\n",
       "      <td>...</td>\n",
       "    </tr>\n",
       "    <tr>\n",
       "      <th>1000</th>\n",
       "      <td>22</td>\n",
       "    </tr>\n",
       "    <tr>\n",
       "      <th>1002</th>\n",
       "      <td>3</td>\n",
       "    </tr>\n",
       "    <tr>\n",
       "      <th>1003</th>\n",
       "      <td>4</td>\n",
       "    </tr>\n",
       "    <tr>\n",
       "      <th>1006</th>\n",
       "      <td>1</td>\n",
       "    </tr>\n",
       "    <tr>\n",
       "      <th>9999</th>\n",
       "      <td>207</td>\n",
       "    </tr>\n",
       "  </tbody>\n",
       "</table>\n",
       "<p>119 rows × 1 columns</p>\n",
       "</div>"
      ],
      "text/plain": [
       "          theme_name\n",
       "color_id            \n",
       "-1                27\n",
       " 0               373\n",
       " 1               342\n",
       " 2               271\n",
       " 3                27\n",
       "...              ...\n",
       " 1000             22\n",
       " 1002              3\n",
       " 1003              4\n",
       " 1006              1\n",
       " 9999            207\n",
       "\n",
       "[119 rows x 1 columns]"
      ]
     },
     "execution_count": 156,
     "metadata": {},
     "output_type": "execute_result"
    }
   ],
   "source": [
    "lego_df.groupby(\"color_id\").agg({\"theme_name\": \"nunique\"})"
   ]
  },
  {
   "cell_type": "markdown",
   "metadata": {},
   "source": [
    "#### Variables de salida (en caso de aplicar):\n",
    "* ¿Están balanceadas las clases?\n",
    "* (en caso de aplicar) ¿Qué técnicas consideraría para codificar la variable de salida?\n",
    "Justifique.\n",
    "\n",
    "No consideramos ninguna técnica para codificar la variable de salida pues vamos a trabajar con el theme_id que es un entero."
   ]
  }
 ],
 "metadata": {
  "kernelspec": {
   "display_name": "Python 3.9.7 ('base')",
   "language": "python",
   "name": "python3"
  },
  "language_info": {
   "codemirror_mode": {
    "name": "ipython",
    "version": 3
   },
   "file_extension": ".py",
   "mimetype": "text/x-python",
   "name": "python",
   "nbconvert_exporter": "python",
   "pygments_lexer": "ipython3",
   "version": "3.9.7"
  },
  "orig_nbformat": 4,
  "vscode": {
   "interpreter": {
    "hash": "40c82f114804a1480aeb27a3c6f7ad070b7bcba24ac6951971befad3bfd46cb3"
   }
  }
 },
 "nbformat": 4,
 "nbformat_minor": 2
}
